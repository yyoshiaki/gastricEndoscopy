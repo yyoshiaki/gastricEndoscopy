{
 "cells": [
  {
   "cell_type": "code",
   "execution_count": 1,
   "metadata": {},
   "outputs": [
    {
     "name": "stderr",
     "output_type": "stream",
     "text": [
      "Using TensorFlow backend.\n"
     ]
    }
   ],
   "source": [
    "import os\n",
    "import re\n",
    "from PIL import Image, ImageOps\n",
    "import urllib.request\n",
    "import numpy as np\n",
    "import matplotlib.pyplot as plt\n",
    "\n",
    "import sys\n",
    "from keras.applications.vgg16 import VGG16\n",
    "from keras.models import Sequential, Model\n",
    "from keras.layers import Input, Activation, Dropout, Flatten, Dense\n",
    "from keras.preprocessing import image\n",
    "import numpy as np\n",
    "%matplotlib inline"
   ]
  },
  {
   "cell_type": "code",
   "execution_count": 2,
   "metadata": {
    "collapsed": true
   },
   "outputs": [],
   "source": [
    "dir_imgs = 'test_data'"
   ]
  },
  {
   "cell_type": "code",
   "execution_count": 3,
   "metadata": {
    "collapsed": true
   },
   "outputs": [],
   "source": [
    "def process_img(img):\n",
    "    w, h = img.size\n",
    "    s = min(w,h)\n",
    "\n",
    "    if w > h:\n",
    "        t = 0\n",
    "        b = s\n",
    "\n",
    "        l = (w - s) / 2\n",
    "        r = l + s\n",
    "\n",
    "        box = (l, t, r, b)\n",
    "    else:\n",
    "        t = 0\n",
    "        r = s\n",
    "\n",
    "        l = (h - s) / 2\n",
    "        b = t + s\n",
    "\n",
    "        box = (l, t, r, b)\n",
    "\n",
    "    img = img.crop(box)\n",
    "    thumbnail_size = (150, 150)\n",
    "    img.thumbnail(thumbnail_size)\n",
    "    # print(files_AG[i])\n",
    "    # img.save(out_dir_img_AG + '/{}.jpg'.format(i), 'JPEG')\n",
    "    return img"
   ]
  },
  {
   "cell_type": "code",
   "execution_count": 4,
   "metadata": {
    "collapsed": true
   },
   "outputs": [],
   "source": [
    "def predict(filename):\n",
    "    print('saved :', filename)\n",
    "\n",
    "    result_dir = 'dataset/results'\n",
    "\n",
    "    classes = ['normal', 'AtrophicGastritis']\n",
    "    nb_classes = len(classes)\n",
    "\n",
    "    img_height, img_width = 150, 150\n",
    "    channels = 3\n",
    "\n",
    "    # VGG16\n",
    "    input_tensor = Input(shape=(img_height, img_width, channels))\n",
    "    vgg16 = VGG16(include_top=False, weights='imagenet', input_tensor=input_tensor)\n",
    "\n",
    "    # FC\n",
    "    fc = Sequential()\n",
    "    fc.add(Flatten(input_shape=vgg16.output_shape[1:]))\n",
    "    fc.add(Dense(256, activation='relu'))\n",
    "    fc.add(Dropout(0.5))\n",
    "    fc.add(Dense(nb_classes, activation='softmax'))\n",
    "\n",
    "    # VGG16とFCを接続\n",
    "    model = Model(input=vgg16.input, output=fc(vgg16.output))\n",
    "\n",
    "    # 学習済みの重みをロード\n",
    "    model.load_weights(os.path.join(result_dir, 'finetuning.h5'))\n",
    "\n",
    "    model.compile(loss='categorical_crossentropy',\n",
    "                  optimizer='adam',\n",
    "                  metrics=['accuracy'])\n",
    "    # model.summary()\n",
    "\n",
    "    # 画像を読み込んで4次元テンソルへ変換\n",
    "    img = image.load_img(filename, target_size=(img_height, img_width))\n",
    "    x = image.img_to_array(img)\n",
    "    x = np.expand_dims(x, axis=0)\n",
    "\n",
    "    # 学習時にImageDataGeneratorのrescaleで正規化したので同じ処理が必要！\n",
    "    # これを忘れると結果がおかしくなるので注意\n",
    "    x = x / 255.0\n",
    "\n",
    "    # print(x)\n",
    "    # print(x.shape)\n",
    "\n",
    "    # クラスを予測\n",
    "    # 入力は1枚の画像なので[0]のみ\n",
    "    pred = model.predict(x)[0]\n",
    "\n",
    "    # 予測確率が高いトップ5を出力\n",
    "    top = 2\n",
    "    top_indices = pred.argsort()[-top:][::-1]\n",
    "    result = [(classes[i], pred[i]) for i in top_indices]\n",
    "    return result"
   ]
  },
  {
   "cell_type": "code",
   "execution_count": 5,
   "metadata": {
    "collapsed": true
   },
   "outputs": [],
   "source": [
    "def download_img(url, dir_imgs):\n",
    "    list_imgs = os.listdir(dir_imgs)\n",
    "    r = re.compile(\"[0-9]{3}\\.jpg\")\n",
    "    list_imgs = [x for x in list_imgs if r.match(x)]\n",
    "    savename = '%03d.jpg'%(max([int(x[:3]) for x in list_imgs]) + 1)\n",
    "    savename = dir_imgs + '/' + savename\n",
    "    urllib.request.urlretrieve(url, savename)\n",
    "    return savename"
   ]
  },
  {
   "cell_type": "code",
   "execution_count": 20,
   "metadata": {
    "collapsed": true
   },
   "outputs": [],
   "source": [
    "def main(url, dir_imgs='test_data'):\n",
    "    filename = download_img(url, dir_imgs)\n",
    "    img = Image.open(filename)\n",
    "    process_img(img).convert(\"RGB\").save(filename, 'JPEG')\n",
    "    result = predict(filename)\n",
    "    img = Image.open(filename)\n",
    "    plt.imshow(np.array(img))\n",
    "    return result"
   ]
  },
  {
   "cell_type": "code",
   "execution_count": 28,
   "metadata": {},
   "outputs": [
    {
     "name": "stdout",
     "output_type": "stream",
     "text": [
      "saved : test_data/065.jpg\n"
     ]
    },
    {
     "name": "stderr",
     "output_type": "stream",
     "text": [
      "/home/yyoshiaki/anaconda3/lib/python3.6/site-packages/ipykernel_launcher.py:24: UserWarning: Update your `Model` call to the Keras 2 API: `Model(inputs=Tensor(\"in..., outputs=Tensor(\"se...)`\n"
     ]
    },
    {
     "name": "stdout",
     "output_type": "stream",
     "text": [
      "saved : test_data/066.jpg\n",
      "saved : test_data/067.jpg\n",
      "saved : test_data/068.jpg\n",
      "saved : test_data/069.jpg\n",
      "saved : test_data/070.jpg\n",
      "saved : test_data/071.jpg\n",
      "saved : test_data/072.jpg\n",
      "539 ms ± 41.4 ms per loop (mean ± std. dev. of 7 runs, 1 loop each)\n"
     ]
    },
    {
     "data": {
      "image/png": "[encoded data removed]",
      "text/plain": [
       "<matplotlib.figure.Figure at 0x7fb9c0084c18>"
      ]
     },
     "metadata": {},
     "output_type": "display_data"
    }
   ],
   "source": [
    "%timeit main('https://d11o9kmqc23yug.cloudfront.net/data/qpics/production/image/1063/106F-05.jpg')"
   ]
  },
  {
   "cell_type": "code",
   "execution_count": null,
   "metadata": {
    "collapsed": true
   },
   "outputs": [],
   "source": []
  },
  {
   "cell_type": "code",
   "execution_count": null,
   "metadata": {
    "collapsed": true
   },
   "outputs": [],
   "source": []
  },
  {
   "cell_type": "code",
   "execution_count": null,
   "metadata": {
    "collapsed": true
   },
   "outputs": [],
   "source": []
  },
  {
   "cell_type": "code",
   "execution_count": 23,
   "metadata": {},
   "outputs": [
    {
     "name": "stderr",
     "output_type": "stream",
     "text": [
      "/home/yyoshiaki/anaconda3/lib/python3.6/site-packages/ipykernel_launcher.py:21: UserWarning: Update your `Model` call to the Keras 2 API: `Model(inputs=Tensor(\"in..., outputs=Tensor(\"se...)`\n"
     ]
    }
   ],
   "source": [
    "result_dir = 'dataset/results'\n",
    "\n",
    "classes = ['normal', 'AtrophicGastritis']\n",
    "nb_classes = len(classes)\n",
    "\n",
    "img_height, img_width = 150, 150\n",
    "channels = 3\n",
    "\n",
    "# VGG16\n",
    "input_tensor = Input(shape=(img_height, img_width, channels))\n",
    "vgg16 = VGG16(include_top=False, weights='imagenet', input_tensor=input_tensor)\n",
    "\n",
    "# FC\n",
    "fc = Sequential()\n",
    "fc.add(Flatten(input_shape=vgg16.output_shape[1:]))\n",
    "fc.add(Dense(256, activation='relu'))\n",
    "fc.add(Dropout(0.5))\n",
    "fc.add(Dense(nb_classes, activation='softmax'))\n",
    "\n",
    "# VGG16とFCを接続\n",
    "model = Model(input=vgg16.input, output=fc(vgg16.output))\n",
    "\n",
    "# 学習済みの重みをロード\n",
    "model.load_weights(os.path.join(result_dir, 'finetuning.h5'))\n",
    "\n",
    "model.compile(loss='categorical_crossentropy',\n",
    "              optimizer='adam',\n",
    "              metrics=['accuracy'])"
   ]
  },
  {
   "cell_type": "code",
   "execution_count": 24,
   "metadata": {},
   "outputs": [
    {
     "name": "stdout",
     "output_type": "stream",
     "text": [
      "_________________________________________________________________\n",
      "Layer (type)                 Output Shape              Param #   \n",
      "=================================================================\n",
      "input_11 (InputLayer)        (None, 150, 150, 3)       0         \n",
      "_________________________________________________________________\n",
      "block1_conv1 (Conv2D)        (None, 150, 150, 64)      1792      \n",
      "_________________________________________________________________\n",
      "block1_conv2 (Conv2D)        (None, 150, 150, 64)      36928     \n",
      "_________________________________________________________________\n",
      "block1_pool (MaxPooling2D)   (None, 75, 75, 64)        0         \n",
      "_________________________________________________________________\n",
      "block2_conv1 (Conv2D)        (None, 75, 75, 128)       73856     \n",
      "_________________________________________________________________\n",
      "block2_conv2 (Conv2D)        (None, 75, 75, 128)       147584    \n",
      "_________________________________________________________________\n",
      "block2_pool (MaxPooling2D)   (None, 37, 37, 128)       0         \n",
      "_________________________________________________________________\n",
      "block3_conv1 (Conv2D)        (None, 37, 37, 256)       295168    \n",
      "_________________________________________________________________\n",
      "block3_conv2 (Conv2D)        (None, 37, 37, 256)       590080    \n",
      "_________________________________________________________________\n",
      "block3_conv3 (Conv2D)        (None, 37, 37, 256)       590080    \n",
      "_________________________________________________________________\n",
      "block3_pool (MaxPooling2D)   (None, 18, 18, 256)       0         \n",
      "_________________________________________________________________\n",
      "block4_conv1 (Conv2D)        (None, 18, 18, 512)       1180160   \n",
      "_________________________________________________________________\n",
      "block4_conv2 (Conv2D)        (None, 18, 18, 512)       2359808   \n",
      "_________________________________________________________________\n",
      "block4_conv3 (Conv2D)        (None, 18, 18, 512)       2359808   \n",
      "_________________________________________________________________\n",
      "block4_pool (MaxPooling2D)   (None, 9, 9, 512)         0         \n",
      "_________________________________________________________________\n",
      "block5_conv1 (Conv2D)        (None, 9, 9, 512)         2359808   \n",
      "_________________________________________________________________\n",
      "block5_conv2 (Conv2D)        (None, 9, 9, 512)         2359808   \n",
      "_________________________________________________________________\n",
      "block5_conv3 (Conv2D)        (None, 9, 9, 512)         2359808   \n",
      "_________________________________________________________________\n",
      "block5_pool (MaxPooling2D)   (None, 4, 4, 512)         0         \n",
      "_________________________________________________________________\n",
      "sequential_11 (Sequential)   (None, 2)                 2097922   \n",
      "=================================================================\n",
      "Total params: 16,812,610\n",
      "Trainable params: 16,812,610\n",
      "Non-trainable params: 0\n",
      "_________________________________________________________________\n"
     ]
    }
   ],
   "source": [
    "model.summary()"
   ]
  },
  {
   "cell_type": "code",
   "execution_count": 25,
   "metadata": {},
   "outputs": [],
   "source": [
    "from keras.utils.vis_utils import plot_model\n",
    "plot_model(model, to_file='model.png', show_shapes=True)"
   ]
  },
  {
   "cell_type": "code",
   "execution_count": null,
   "metadata": {
    "collapsed": true
   },
   "outputs": [],
   "source": []
  }
 ],
 "metadata": {
  "kernelspec": {
   "display_name": "Python 3",
   "language": "python",
   "name": "python3"
  },
  "language_info": {
   "codemirror_mode": {
    "name": "ipython",
    "version": 3
   },
   "file_extension": ".py",
   "mimetype": "text/x-python",
   "name": "python",
   "nbconvert_exporter": "python",
   "pygments_lexer": "ipython3",
   "version": "3.6.2"
  }
 },
 "nbformat": 4,
 "nbformat_minor": 2
}
